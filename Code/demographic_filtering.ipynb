{
 "cells": [
  {
   "cell_type": "markdown",
   "metadata": {},
   "source": [
    "# Demographic filtering\n",
    "It is one of the simplest movie recommendation system that offers users the best rated and most popular movies. However it seems simple, we need appropriate formula to measure the rating of a movie to consider it as best among others. Only rating won't give us the proper results cause if a movie has 9.5 rating but number of votes is less than 10, then it biases our result."
   ]
  },
  {
   "cell_type": "markdown",
   "metadata": {},
   "source": [
    "So Here we use the popular formula given by IMDB, which is articulated [here](https://help.imdb.com/article/imdb/track-movies-tv/ratings-faq/G67Y87TFYYP6TWAV#calculatetop) clearly. It basically gives the weightage based on number of votes and ratings of that movie. The formula as follows:"
   ]
  },
  {
   "cell_type": "markdown",
   "metadata": {},
   "source": [
    "$$W = \\frac{R*v+C*m}{v+m}$$"
   ]
  },
  {
   "cell_type": "markdown",
   "metadata": {},
   "source": [
    "Where,  \n",
    "\n",
    "- $W \\to$ Weight of the rating  \n",
    "- $R \\to$ Average rating of the movie\n",
    "- $v \\to$ Number of votes for the movie\n",
    "- $C \\to$ Mean of the average votes of whole data\n",
    "- $m \\to$ Minimum number of votes to be considered"
   ]
  },
  {
   "cell_type": "markdown",
   "metadata": {},
   "source": [
    "Therefore we need to determine mean of average votes of whole data ($C$) and decide minimum number of votes to be considered ($m$). First lets import the preprocessed data from Preprocess folder and other required modules."
   ]
  },
  {
   "cell_type": "code",
   "execution_count": 1,
   "metadata": {},
   "outputs": [
    {
     "data": {
      "text/plain": [
       "Index(['budget', 'genres', 'id', 'keywords', 'original_language',\n",
       "       'original_title', 'overview', 'popularity', 'production_companies',\n",
       "       'production_countries', 'release_date', 'revenue', 'runtime',\n",
       "       'spoken_languages', 'status', 'tagline', 'title', 'vote_average',\n",
       "       'vote_count', 'cast', 'crew'],\n",
       "      dtype='object')"
      ]
     },
     "execution_count": 1,
     "metadata": {},
     "output_type": "execute_result"
    }
   ],
   "source": [
    "import pandas as pd\n",
    "import numpy as np\n",
    "from preprocessing import df\n",
    "df.columns"
   ]
  },
  {
   "cell_type": "markdown",
   "metadata": {},
   "source": [
    "Now lets calculate $C$ which is mean of all the votes in the data using vote average column:"
   ]
  },
  {
   "cell_type": "code",
   "execution_count": 2,
   "metadata": {},
   "outputs": [
    {
     "data": {
      "text/plain": [
       "6.094186288810164"
      ]
     },
     "execution_count": 2,
     "metadata": {},
     "output_type": "execute_result"
    }
   ],
   "source": [
    "C = df[\"vote_average\"].mean()\n",
    "C"
   ]
  },
  {
   "cell_type": "markdown",
   "metadata": {},
   "source": [
    "For $m$ which is minimum number of votes to be considered. Lets take 80% as our cuttoff, i.e. the movie needs to have more votes than 80% of the movies. We can use the quantile function:"
   ]
  },
  {
   "cell_type": "code",
   "execution_count": 3,
   "metadata": {},
   "outputs": [
    {
     "data": {
      "text/plain": [
       "958.4000000000001"
      ]
     },
     "execution_count": 3,
     "metadata": {},
     "output_type": "execute_result"
    }
   ],
   "source": [
    "m = df[\"vote_count\"].quantile(0.8)\n",
    "m"
   ]
  },
  {
   "cell_type": "markdown",
   "metadata": {},
   "source": [
    "This implies a movie must have atleast $\\approx$ 958 votes to be considered for based on rating score. So for demographic filtering lets filter out all other votes which have vote count lesser than $m$."
   ]
  },
  {
   "cell_type": "code",
   "execution_count": 4,
   "metadata": {},
   "outputs": [
    {
     "name": "stdout",
     "output_type": "stream",
     "text": [
      "Before:  (4799, 21)\n",
      "After:  (960, 21)\n"
     ]
    }
   ],
   "source": [
    "print(\"Before: \",df.shape)\n",
    "df = df.copy().loc[df[\"vote_count\"] >= m]\n",
    "print(\"After: \", df.shape)"
   ]
  },
  {
   "cell_type": "markdown",
   "metadata": {},
   "source": [
    "Now lets create our weightage function which gives rating based on imdb rating formula."
   ]
  },
  {
   "cell_type": "code",
   "execution_count": 5,
   "metadata": {},
   "outputs": [],
   "source": [
    "def weight_ratings(row):\n",
    "    v = row[\"vote_count\"]\n",
    "    R = row[\"vote_average\"]\n",
    "    return (R*v+C*m)/(v+m)"
   ]
  },
  {
   "cell_type": "markdown",
   "metadata": {},
   "source": [
    "Lets create a new column called weightage, for our preferred rating criteria."
   ]
  },
  {
   "cell_type": "code",
   "execution_count": 6,
   "metadata": {},
   "outputs": [],
   "source": [
    "df['weightage'] = df.apply(weight_ratings, axis=1)"
   ]
  },
  {
   "cell_type": "markdown",
   "metadata": {},
   "source": [
    "That's it the work is done, all thats left is sorting the dataframe based on weightage and printing top films."
   ]
  },
  {
   "cell_type": "code",
   "execution_count": 7,
   "metadata": {},
   "outputs": [],
   "source": [
    "df.sort_values(\"weightage\", ascending=False, inplace=True)"
   ]
  },
  {
   "cell_type": "code",
   "execution_count": 20,
   "metadata": {},
   "outputs": [
    {
     "data": {
      "text/html": [
       "<div>\n",
       "<style scoped>\n",
       "    .dataframe tbody tr th:only-of-type {\n",
       "        vertical-align: middle;\n",
       "    }\n",
       "\n",
       "    .dataframe tbody tr th {\n",
       "        vertical-align: top;\n",
       "    }\n",
       "\n",
       "    .dataframe thead th {\n",
       "        text-align: right;\n",
       "    }\n",
       "</style>\n",
       "<table border=\"1\" class=\"dataframe\">\n",
       "  <thead>\n",
       "    <tr style=\"text-align: right;\">\n",
       "      <th></th>\n",
       "      <th>title</th>\n",
       "      <th>weightage</th>\n",
       "      <th>vote_average</th>\n",
       "      <th>vote_count</th>\n",
       "    </tr>\n",
       "  </thead>\n",
       "  <tbody>\n",
       "    <tr>\n",
       "      <th>1881</th>\n",
       "      <td>The Shawshank Redemption</td>\n",
       "      <td>8.248376</td>\n",
       "      <td>8.5</td>\n",
       "      <td>8205</td>\n",
       "    </tr>\n",
       "    <tr>\n",
       "      <th>662</th>\n",
       "      <td>Fight Club</td>\n",
       "      <td>8.096165</td>\n",
       "      <td>8.3</td>\n",
       "      <td>9413</td>\n",
       "    </tr>\n",
       "    <tr>\n",
       "      <th>3337</th>\n",
       "      <td>The Godfather</td>\n",
       "      <td>8.077454</td>\n",
       "      <td>8.4</td>\n",
       "      <td>5893</td>\n",
       "    </tr>\n",
       "    <tr>\n",
       "      <th>3232</th>\n",
       "      <td>Pulp Fiction</td>\n",
       "      <td>8.074775</td>\n",
       "      <td>8.3</td>\n",
       "      <td>8428</td>\n",
       "    </tr>\n",
       "    <tr>\n",
       "      <th>65</th>\n",
       "      <td>The Dark Knight</td>\n",
       "      <td>8.044279</td>\n",
       "      <td>8.2</td>\n",
       "      <td>12002</td>\n",
       "    </tr>\n",
       "    <tr>\n",
       "      <th>809</th>\n",
       "      <td>Forrest Gump</td>\n",
       "      <td>7.972862</td>\n",
       "      <td>8.2</td>\n",
       "      <td>7927</td>\n",
       "    </tr>\n",
       "    <tr>\n",
       "      <th>96</th>\n",
       "      <td>Inception</td>\n",
       "      <td>7.969319</td>\n",
       "      <td>8.1</td>\n",
       "      <td>13752</td>\n",
       "    </tr>\n",
       "    <tr>\n",
       "      <th>95</th>\n",
       "      <td>Interstellar</td>\n",
       "      <td>7.937437</td>\n",
       "      <td>8.1</td>\n",
       "      <td>10867</td>\n",
       "    </tr>\n",
       "    <tr>\n",
       "      <th>1990</th>\n",
       "      <td>The Empire Strikes Back</td>\n",
       "      <td>7.904828</td>\n",
       "      <td>8.2</td>\n",
       "      <td>5879</td>\n",
       "    </tr>\n",
       "    <tr>\n",
       "      <th>1818</th>\n",
       "      <td>Schindler's List</td>\n",
       "      <td>7.900172</td>\n",
       "      <td>8.3</td>\n",
       "      <td>4329</td>\n",
       "    </tr>\n",
       "    <tr>\n",
       "      <th>3865</th>\n",
       "      <td>Whiplash</td>\n",
       "      <td>7.894419</td>\n",
       "      <td>8.3</td>\n",
       "      <td>4254</td>\n",
       "    </tr>\n",
       "    <tr>\n",
       "      <th>329</th>\n",
       "      <td>The Lord of the Rings: The Return of the King</td>\n",
       "      <td>7.886933</td>\n",
       "      <td>8.1</td>\n",
       "      <td>8064</td>\n",
       "    </tr>\n",
       "    <tr>\n",
       "      <th>2294</th>\n",
       "      <td>Spirited Away</td>\n",
       "      <td>7.859426</td>\n",
       "      <td>8.3</td>\n",
       "      <td>3840</td>\n",
       "    </tr>\n",
       "    <tr>\n",
       "      <th>2912</th>\n",
       "      <td>Star Wars</td>\n",
       "      <td>7.846469</td>\n",
       "      <td>8.1</td>\n",
       "      <td>6624</td>\n",
       "    </tr>\n",
       "    <tr>\n",
       "      <th>1553</th>\n",
       "      <td>Se7en</td>\n",
       "      <td>7.814077</td>\n",
       "      <td>8.1</td>\n",
       "      <td>5765</td>\n",
       "    </tr>\n",
       "  </tbody>\n",
       "</table>\n",
       "</div>"
      ],
      "text/plain": [
       "                                              title  weightage  vote_average  \\\n",
       "1881                       The Shawshank Redemption   8.248376           8.5   \n",
       "662                                      Fight Club   8.096165           8.3   \n",
       "3337                                  The Godfather   8.077454           8.4   \n",
       "3232                                   Pulp Fiction   8.074775           8.3   \n",
       "65                                  The Dark Knight   8.044279           8.2   \n",
       "809                                    Forrest Gump   7.972862           8.2   \n",
       "96                                        Inception   7.969319           8.1   \n",
       "95                                     Interstellar   7.937437           8.1   \n",
       "1990                        The Empire Strikes Back   7.904828           8.2   \n",
       "1818                               Schindler's List   7.900172           8.3   \n",
       "3865                                       Whiplash   7.894419           8.3   \n",
       "329   The Lord of the Rings: The Return of the King   7.886933           8.1   \n",
       "2294                                  Spirited Away   7.859426           8.3   \n",
       "2912                                      Star Wars   7.846469           8.1   \n",
       "1553                                          Se7en   7.814077           8.1   \n",
       "\n",
       "      vote_count  \n",
       "1881        8205  \n",
       "662         9413  \n",
       "3337        5893  \n",
       "3232        8428  \n",
       "65         12002  \n",
       "809         7927  \n",
       "96         13752  \n",
       "95         10867  \n",
       "1990        5879  \n",
       "1818        4329  \n",
       "3865        4254  \n",
       "329         8064  \n",
       "2294        3840  \n",
       "2912        6624  \n",
       "1553        5765  "
      ]
     },
     "execution_count": 20,
     "metadata": {},
     "output_type": "execute_result"
    }
   ],
   "source": [
    "df[[\"title\",\"weightage\", \"vote_average\", \"vote_count\"]].head(15)"
   ]
  },
  {
   "cell_type": "markdown",
   "metadata": {},
   "source": [
    "Lets visualise the same data using matplotlib library."
   ]
  },
  {
   "cell_type": "code",
   "execution_count": 33,
   "metadata": {},
   "outputs": [
    {
     "data": {
      "text/plain": [
       "Text(0.5, 1.0, 'Most Rated Movies Based on IMDB')"
      ]
     },
     "execution_count": 33,
     "metadata": {},
     "output_type": "execute_result"
    },
    {
     "data": {
      "image/png": "[encoded data removed]",
      "text/plain": [
       "<Figure size 864x432 with 1 Axes>"
      ]
     },
     "metadata": {
      "needs_background": "light"
     },
     "output_type": "display_data"
    }
   ],
   "source": [
    "import matplotlib.pyplot as plt\n",
    "plt.figure(figsize=(12,6))\n",
    "plt.bar(df['title'].head(5),df['weightage'].head(5))\n",
    "plt.ylabel(\"Weightage\")\n",
    "plt.title(\"Most Rated Movies Based on IMDB\")"
   ]
  },
  {
   "cell_type": "markdown",
   "metadata": {},
   "source": [
    "We already have a column called popularity in the data frame, lets describe the most popular according to that column."
   ]
  },
  {
   "cell_type": "code",
   "execution_count": 22,
   "metadata": {},
   "outputs": [
    {
     "data": {
      "text/html": [
       "<div>\n",
       "<style scoped>\n",
       "    .dataframe tbody tr th:only-of-type {\n",
       "        vertical-align: middle;\n",
       "    }\n",
       "\n",
       "    .dataframe tbody tr th {\n",
       "        vertical-align: top;\n",
       "    }\n",
       "\n",
       "    .dataframe thead th {\n",
       "        text-align: right;\n",
       "    }\n",
       "</style>\n",
       "<table border=\"1\" class=\"dataframe\">\n",
       "  <thead>\n",
       "    <tr style=\"text-align: right;\">\n",
       "      <th></th>\n",
       "      <th>title</th>\n",
       "      <th>weightage</th>\n",
       "      <th>vote_average</th>\n",
       "      <th>vote_count</th>\n",
       "    </tr>\n",
       "  </thead>\n",
       "  <tbody>\n",
       "    <tr>\n",
       "      <th>1881</th>\n",
       "      <td>The Shawshank Redemption</td>\n",
       "      <td>8.248376</td>\n",
       "      <td>8.5</td>\n",
       "      <td>8205</td>\n",
       "    </tr>\n",
       "    <tr>\n",
       "      <th>662</th>\n",
       "      <td>Fight Club</td>\n",
       "      <td>8.096165</td>\n",
       "      <td>8.3</td>\n",
       "      <td>9413</td>\n",
       "    </tr>\n",
       "    <tr>\n",
       "      <th>3337</th>\n",
       "      <td>The Godfather</td>\n",
       "      <td>8.077454</td>\n",
       "      <td>8.4</td>\n",
       "      <td>5893</td>\n",
       "    </tr>\n",
       "    <tr>\n",
       "      <th>3232</th>\n",
       "      <td>Pulp Fiction</td>\n",
       "      <td>8.074775</td>\n",
       "      <td>8.3</td>\n",
       "      <td>8428</td>\n",
       "    </tr>\n",
       "    <tr>\n",
       "      <th>65</th>\n",
       "      <td>The Dark Knight</td>\n",
       "      <td>8.044279</td>\n",
       "      <td>8.2</td>\n",
       "      <td>12002</td>\n",
       "    </tr>\n",
       "    <tr>\n",
       "      <th>809</th>\n",
       "      <td>Forrest Gump</td>\n",
       "      <td>7.972862</td>\n",
       "      <td>8.2</td>\n",
       "      <td>7927</td>\n",
       "    </tr>\n",
       "    <tr>\n",
       "      <th>96</th>\n",
       "      <td>Inception</td>\n",
       "      <td>7.969319</td>\n",
       "      <td>8.1</td>\n",
       "      <td>13752</td>\n",
       "    </tr>\n",
       "    <tr>\n",
       "      <th>95</th>\n",
       "      <td>Interstellar</td>\n",
       "      <td>7.937437</td>\n",
       "      <td>8.1</td>\n",
       "      <td>10867</td>\n",
       "    </tr>\n",
       "    <tr>\n",
       "      <th>1990</th>\n",
       "      <td>The Empire Strikes Back</td>\n",
       "      <td>7.904828</td>\n",
       "      <td>8.2</td>\n",
       "      <td>5879</td>\n",
       "    </tr>\n",
       "    <tr>\n",
       "      <th>1818</th>\n",
       "      <td>Schindler's List</td>\n",
       "      <td>7.900172</td>\n",
       "      <td>8.3</td>\n",
       "      <td>4329</td>\n",
       "    </tr>\n",
       "    <tr>\n",
       "      <th>3865</th>\n",
       "      <td>Whiplash</td>\n",
       "      <td>7.894419</td>\n",
       "      <td>8.3</td>\n",
       "      <td>4254</td>\n",
       "    </tr>\n",
       "    <tr>\n",
       "      <th>329</th>\n",
       "      <td>The Lord of the Rings: The Return of the King</td>\n",
       "      <td>7.886933</td>\n",
       "      <td>8.1</td>\n",
       "      <td>8064</td>\n",
       "    </tr>\n",
       "    <tr>\n",
       "      <th>2294</th>\n",
       "      <td>Spirited Away</td>\n",
       "      <td>7.859426</td>\n",
       "      <td>8.3</td>\n",
       "      <td>3840</td>\n",
       "    </tr>\n",
       "    <tr>\n",
       "      <th>2912</th>\n",
       "      <td>Star Wars</td>\n",
       "      <td>7.846469</td>\n",
       "      <td>8.1</td>\n",
       "      <td>6624</td>\n",
       "    </tr>\n",
       "    <tr>\n",
       "      <th>1553</th>\n",
       "      <td>Se7en</td>\n",
       "      <td>7.814077</td>\n",
       "      <td>8.1</td>\n",
       "      <td>5765</td>\n",
       "    </tr>\n",
       "  </tbody>\n",
       "</table>\n",
       "</div>"
      ],
      "text/plain": [
       "                                              title  weightage  vote_average  \\\n",
       "1881                       The Shawshank Redemption   8.248376           8.5   \n",
       "662                                      Fight Club   8.096165           8.3   \n",
       "3337                                  The Godfather   8.077454           8.4   \n",
       "3232                                   Pulp Fiction   8.074775           8.3   \n",
       "65                                  The Dark Knight   8.044279           8.2   \n",
       "809                                    Forrest Gump   7.972862           8.2   \n",
       "96                                        Inception   7.969319           8.1   \n",
       "95                                     Interstellar   7.937437           8.1   \n",
       "1990                        The Empire Strikes Back   7.904828           8.2   \n",
       "1818                               Schindler's List   7.900172           8.3   \n",
       "3865                                       Whiplash   7.894419           8.3   \n",
       "329   The Lord of the Rings: The Return of the King   7.886933           8.1   \n",
       "2294                                  Spirited Away   7.859426           8.3   \n",
       "2912                                      Star Wars   7.846469           8.1   \n",
       "1553                                          Se7en   7.814077           8.1   \n",
       "\n",
       "      vote_count  \n",
       "1881        8205  \n",
       "662         9413  \n",
       "3337        5893  \n",
       "3232        8428  \n",
       "65         12002  \n",
       "809         7927  \n",
       "96         13752  \n",
       "95         10867  \n",
       "1990        5879  \n",
       "1818        4329  \n",
       "3865        4254  \n",
       "329         8064  \n",
       "2294        3840  \n",
       "2912        6624  \n",
       "1553        5765  "
      ]
     },
     "execution_count": 22,
     "metadata": {},
     "output_type": "execute_result"
    }
   ],
   "source": [
    "popular = df.sort_values(\"popularity\", ascending=False)\n",
    "df[[\"title\",\"weightage\", \"vote_average\", \"vote_count\"]].head(15)"
   ]
  },
  {
   "cell_type": "code",
   "execution_count": 32,
   "metadata": {},
   "outputs": [
    {
     "data": {
      "text/plain": [
       "Text(0.5, 1.0, 'Most Popular Movies')"
      ]
     },
     "execution_count": 32,
     "metadata": {},
     "output_type": "execute_result"
    },
    {
     "data": {
      "image/png": "[encoded data removed]",
      "text/plain": [
       "<Figure size 864x432 with 1 Axes>"
      ]
     },
     "metadata": {
      "needs_background": "light"
     },
     "output_type": "display_data"
    }
   ],
   "source": [
    "plt.figure(figsize=(12,6))\n",
    "plt.bar(popular['title'].head(5),popular['popularity'].head(5))\n",
    "plt.ylabel(\"Popularity\")\n",
    "plt.title(\"Most Popular Movies\")"
   ]
  },
  {
   "cell_type": "markdown",
   "metadata": {},
   "source": [
    "Here we can observe that based on how we measure the popularity, we will get different weights on different movies."
   ]
  }
 ],
 "metadata": {
  "kernelspec": {
   "display_name": "Python 3.10.4 64-bit",
   "language": "python",
   "name": "python3"
  },
  "language_info": {
   "codemirror_mode": {
    "name": "ipython",
    "version": 3
   },
   "file_extension": ".py",
   "mimetype": "text/x-python",
   "name": "python",
   "nbconvert_exporter": "python",
   "pygments_lexer": "ipython3",
   "version": "3.10.4"
  },
  "vscode": {
   "interpreter": {
    "hash": "916dbcbb3f70747c44a77c7bcd40155683ae19c65e1c03b4aa3499c5328201f1"
   }
  }
 },
 "nbformat": 4,
 "nbformat_minor": 2
}
