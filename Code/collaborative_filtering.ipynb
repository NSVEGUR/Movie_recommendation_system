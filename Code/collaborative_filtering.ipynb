{
 "cells": [
  {
   "cell_type": "markdown",
   "metadata": {},
   "source": [
    "# Collaborative filtering\n",
    "we will use a Collaborative Filtering to make recommendations to Movie Watchers. It is basically of two types:-"
   ]
  },
  {
   "cell_type": "markdown",
   "metadata": {},
   "source": [
    "## User-User based\n",
    "This system recommend products to a user that similar users have liked. First we will select a user(k) with  movies he has watched previously . Now again select the end(other) users who has also watched some or all of the movies of user(k). For each movie we will extract ratings for similar movies they watched. For measuring(extracting) the similarity between two users we can either use pearson correlation or cosine similarity.\n",
    "\n",
    "This can be explained with an example :-\n",
    "In the following matrixes, each row represents a user, while the columns correspond to different movies except the last one which records the similarity between that user and the target user. Each cell represents the rating that the user gives to that movie. Assume user E is the target."
   ]
  },
  {
   "cell_type": "markdown",
   "metadata": {},
   "source": [
    "<table>\n",
    "<tr>\n",
    "<td> </td>\n",
    "<td>The avengers</td>\n",
    "<td>Sherlock</td>\n",
    "<td>Transformers</td>\n",
    "<td>Matrix</td>\n",
    "<td>Titanic</td>\n",
    "<td>Me before You</td>\n",
    "<td>Similarity(i,E)</td>\n",
    "</tr>\n",
    "<tr>\n",
    "<td>A</td>\n",
    "<td>2</td>\n",
    "<td> </td>\n",
    "<td>2</td>\n",
    "<td>4</td>\n",
    "<td>5</td>\n",
    "<td> </td>\n",
    "<td>NA</td>\n",
    "</tr>    \n",
    "<tr>\n",
    "<td>B</td>\n",
    "<td>5</td>\n",
    "<td> </td>\n",
    "<td>4</td>\n",
    "<td> </td>\n",
    "<td> </td>\n",
    "<td>1 </td>\n",
    "<td> </td>\n",
    "</tr>    \n",
    "<tr>\n",
    "<td>C</td>\n",
    "<td> </td>\n",
    "<td> </td>\n",
    "<td>5</td>\n",
    "<td> </td>\n",
    "<td>2</td>\n",
    "<td> </td>\n",
    "<td> </td>\n",
    "</tr>    \n",
    "<tr>\n",
    "<td>D</td>\n",
    "<td> </td>\n",
    "<td>1</td>\n",
    "<td> </td>\n",
    "<td>5</td>\n",
    "<td> </td>\n",
    "<td>4</td>\n",
    "<td> </td>\n",
    "</tr>\n",
    "<tr>\n",
    "<td>E</td>\n",
    "<td> </td>\n",
    "<td> </td>\n",
    "<td>4</td>\n",
    "<td> </td>\n",
    "<td> </td>\n",
    "<td>2</td>\n",
    "<td>1</td>\n",
    "</tr>\n",
    "<tr>\n",
    "<td>F</td>\n",
    "<td>4</td>\n",
    "<td>5</td>\n",
    "<td> </td>\n",
    "<td>1</td>\n",
    "<td> </td>\n",
    "<td> </td>\n",
    "<td>NA</td>\n",
    "</tr>            \n",
    "</table>"
   ]
  },
  {
   "cell_type": "markdown",
   "metadata": {},
   "source": [
    "Since user A and F do not share any movie ratings in common with user E, their similarities with user E are not defined in Pearson Correlation. Therefore, we only need to consider user B, C, and D. Based on Pearson Correlation, we can compute the following similarity."
   ]
  },
  {
   "cell_type": "markdown",
   "metadata": {},
   "source": [
    "<table>\n",
    "<tr>\n",
    "<td> </td>\n",
    "<td>The avengers</td>\n",
    "<td>Sherlock</td>\n",
    "<td>Transformers</td>\n",
    "<td>Matrix</td>\n",
    "<td>Titanic</td>\n",
    "<td>Me before You</td>\n",
    "<td>Similarity(i,E)</td>\n",
    "</tr>\n",
    "<tr>\n",
    "<td>A</td>\n",
    "<td>2</td>\n",
    "<td> </td>\n",
    "<td>2</td>\n",
    "<td>4</td>\n",
    "<td>5</td>\n",
    "<td> </td>\n",
    "<td>NA</td>\n",
    "</tr>    \n",
    "<tr>\n",
    "<td>B</td>\n",
    "<td>5</td>\n",
    "<td> </td>\n",
    "<td>4</td>\n",
    "<td> </td>\n",
    "<td> </td>\n",
    "<td>1 </td>\n",
    "<td>0.87</td>\n",
    "</tr>    \n",
    "<tr>\n",
    "<td>C</td>\n",
    "<td> </td>\n",
    "<td> </td>\n",
    "<td>5</td>\n",
    "<td> </td>\n",
    "<td>2</td>\n",
    "<td> </td>\n",
    "<td>1</td>\n",
    "</tr>    \n",
    "<tr>\n",
    "<td>D</td>\n",
    "<td> </td>\n",
    "<td>1</td>\n",
    "<td> </td>\n",
    "<td>5</td>\n",
    "<td> </td>\n",
    "<td>4</td>\n",
    "<td>-1</td>\n",
    "</tr>\n",
    "<tr>\n",
    "<td>E</td>\n",
    "<td> </td>\n",
    "<td> </td>\n",
    "<td>4</td>\n",
    "<td> </td>\n",
    "<td> </td>\n",
    "<td>2</td>\n",
    "<td>1</td>\n",
    "</tr>\n",
    "<tr>\n",
    "<td>F</td>\n",
    "<td>4</td>\n",
    "<td>5</td>\n",
    "<td> </td>\n",
    "<td>1</td>\n",
    "<td> </td>\n",
    "<td> </td>\n",
    "<td>NA</td>\n",
    "</tr>            \n",
    "</table>"
   ]
  },
  {
   "cell_type": "markdown",
   "metadata": {},
   "source": [
    "From the above table we can see that user D is very different from user E as the Pearson Correlation between them is negative. He rated Me Before You higher than his rating average, while user E did the opposite. Now, we can start to fill in the blank for the movies that user E has not rated based on other users."
   ]
  },
  {
   "cell_type": "markdown",
   "metadata": {},
   "source": [
    "\n",
    "<table>\n",
    "<tr>\n",
    "<td> </td>\n",
    "<td>The avengers</td>\n",
    "<td>Sherlock</td>\n",
    "<td>Transformers</td>\n",
    "<td>Matrix</td>\n",
    "<td>Titanic</td>\n",
    "<td>Me before You</td>\n",
    "<td>Similarity(i,E)</td>\n",
    "</tr>\n",
    "<tr>\n",
    "<td>A</td>\n",
    "<td>2</td>\n",
    "<td> </td>\n",
    "<td>2</td>\n",
    "<td>4</td>\n",
    "<td>5</td>\n",
    "<td> </td>\n",
    "<td>NA</td>\n",
    "</tr>    \n",
    "<tr>\n",
    "<td>B</td>\n",
    "<td>5</td>\n",
    "<td> </td>\n",
    "<td>4</td>\n",
    "<td> </td>\n",
    "<td> </td>\n",
    "<td>1 </td>\n",
    "<td>0.87</td>\n",
    "</tr>    \n",
    "<tr>\n",
    "<td>C</td>\n",
    "<td> </td>\n",
    "<td> </td>\n",
    "<td>5</td>\n",
    "<td> </td>\n",
    "<td>2</td>\n",
    "<td> </td>\n",
    "<td>1</td>\n",
    "</tr>    \n",
    "<tr>\n",
    "<td>D</td>\n",
    "<td> </td>\n",
    "<td>1</td>\n",
    "<td> </td>\n",
    "<td>5</td>\n",
    "<td> </td>\n",
    "<td>4</td>\n",
    "<td>-1</td>\n",
    "</tr>\n",
    "<tr>\n",
    "<td>E</td>\n",
    "<td>3.51*</td>\n",
    "<td>3.81*</td>\n",
    "<td>4</td>\n",
    "<td>2.42*</td>\n",
    "<td>2.48*</td>\n",
    "<td>2</td>\n",
    "<td>1</td>\n",
    "</tr>\n",
    "<tr>\n",
    "<td>F</td>\n",
    "<td>4</td>\n",
    "<td>5</td>\n",
    "<td> </td>\n",
    "<td>1</td>\n",
    "<td> </td>\n",
    "<td> </td>\n",
    "<td>NA</td>\n",
    "</tr>            \n",
    "</table>"
   ]
  },
  {
   "cell_type": "markdown",
   "metadata": {},
   "source": [
    "#### Drawbacks of user-user filtering\n",
    "computing user-based CF is very simple, it suffers from several problems. \n",
    "- One main issue is that users’ preference can change over time. It indicates that precomputing the matrix based on their neighboring users may lead to bad performance.\n",
    "- there might be low users to approximate data.\n",
    "- privacy issues respect to end users and also user(k)."
   ]
  },
  {
   "cell_type": "markdown",
   "metadata": {},
   "source": [
    "# Item-Item based\n",
    "The very first step is to build the model by finding similarity between all the item pairs.  One of the most common methods is to use cosine similarity.\n"
   ]
  },
  {
   "cell_type": "markdown",
   "metadata": {},
   "source": [
    "Formula for Cosine Similarity:\n",
    "\n",
    "$$Similarity(A,B) = \\frac{A.B}{|A|*|B|}$$"
   ]
  },
  {
   "cell_type": "markdown",
   "metadata": {},
   "source": [
    "The major difference is that, with item-based collaborative filtering, we fill in the blank vertically, as oppose to the horizontal manner that user-based CF does. The following table shows how to do so for the movie Me Before You."
   ]
  },
  {
   "cell_type": "markdown",
   "metadata": {},
   "source": [
    "<table>\n",
    "<tr>\n",
    "<td> </td>\n",
    "<td>The avengers</td>\n",
    "<td>Sherlock</td>\n",
    "<td>Transformers</td>\n",
    "<td>Matrix</td>\n",
    "<td>Titanic</td>\n",
    "<td>Me before You</td>\n",
    "</tr>\n",
    "<tr>\n",
    "<td>A</td>\n",
    "<td>2</td>\n",
    "<td> </td>\n",
    "<td>2</td>\n",
    "<td>4</td>\n",
    "<td>5</td>\n",
    "<td>2.94*</td>\n",
    "</tr>    \n",
    "<tr>\n",
    "<td>B</td>\n",
    "<td>5</td>\n",
    "<td> </td>\n",
    "<td>4</td>\n",
    "<td> </td>\n",
    "<td> </td>\n",
    "<td>1 </td>\n",
    "</tr>    \n",
    "<tr>\n",
    "<td>C</td>\n",
    "<td> </td>\n",
    "<td> </td>\n",
    "<td>5</td>\n",
    "<td> </td>\n",
    "<td>2</td>\n",
    "<td>2.48*</td>\n",
    "</tr>    \n",
    "<tr>\n",
    "<td>D</td>\n",
    "<td> </td>\n",
    "<td>1</td>\n",
    "<td> </td>\n",
    "<td>5</td>\n",
    "<td> </td>\n",
    "<td>4</td>\n",
    "</tr>\n",
    "<tr>\n",
    "<td>E</td>\n",
    "<td> </td>\n",
    "<td> </td>\n",
    "<td>4</td>\n",
    "<td> </td>\n",
    "<td> </td>\n",
    "<td>2</td>\n",
    "</tr>\n",
    "<tr>\n",
    "<td>F</td>\n",
    "<td>4</td>\n",
    "<td>5</td>\n",
    "<td> </td>\n",
    "<td>1</td>\n",
    "<td> </td>\n",
    "<td>1.12*</td>\n",
    "</tr> \n",
    "<tr>\n",
    "<td>Similarity</td>\n",
    "<td>-1</td>\n",
    "<td>-1</td>\n",
    "<td>0.86</td>\n",
    "<td>1</td>\n",
    "<td>1</td>\n",
    "<td> </td>\n",
    "</tr>                  \n",
    "</table>"
   ]
  },
  {
   "cell_type": "markdown",
   "metadata": {},
   "source": [
    "It successfully avoids the problem posed by dynamic user preference as item-based CF is more static."
   ]
  },
  {
   "cell_type": "markdown",
   "metadata": {},
   "source": [
    "#### Drawbacks of item-item based filtering\n",
    " the main issue is scalability. The computation grows with both the customer and the product. The worst case complexity is O(mn) with m users and n items. In addition, sparsity is another concern. Take a look at the above table again. Although there is only one user that rated both Matrix and Titanic rated, the similarity between them is 1. In extreme cases, we can have millions of users and the similarity between two fairly different movies could be very high simply because they have similar rank for the only user who ranked them both."
   ]
  },
  {
   "cell_type": "markdown",
   "metadata": {},
   "source": [
    "# Single Value Decomposition\n",
    "One way to handle the scalability and sparsity issue created by CF is to leverage a Latent factor model to capture the similarity between users and items. Essentially, we want to turn the recommendation problem into an optimization problem. We can view it as how good we are in predicting the rating for items given a user. One common metric is Root Mean Square Error (RMSE). The lower the RMSE, the better the performance."
   ]
  },
  {
   "cell_type": "markdown",
   "metadata": {},
   "source": [
    " latent factor is a broad idea which describes a property or concept that a user or an item have. For instance, for music, latent factor can refer to the genre that the music belongs to. SVD decreases the dimension of the utility matrix by extracting its latent factors. Essentially, we map each user and each item into a latent space with dimension r. Therefore, it helps us better understand the relationship between users and items as they become directly comparable."
   ]
  },
  {
   "cell_type": "code",
   "execution_count": 3,
   "metadata": {},
   "outputs": [
    {
     "data": {
      "text/plain": [
       "Index(['budget', 'genres', 'id', 'keywords', 'original_language',\n",
       "       'original_title', 'overview', 'popularity', 'production_companies',\n",
       "       'production_countries', 'release_date', 'revenue', 'runtime',\n",
       "       'spoken_languages', 'status', 'tagline', 'title', 'vote_average',\n",
       "       'vote_count', 'cast', 'crew'],\n",
       "      dtype='object')"
      ]
     },
     "execution_count": 3,
     "metadata": {},
     "output_type": "execute_result"
    }
   ],
   "source": [
    "import pandas as pd\n",
    "import numpy as np\n",
    "from preprocessing import Preprocess\n",
    "df = Preprocess().df\n",
    "df.columns"
   ]
  },
  {
   "cell_type": "code",
   "execution_count": 4,
   "metadata": {},
   "outputs": [
    {
     "data": {
      "text/html": [
       "<div>\n",
       "<style scoped>\n",
       "    .dataframe tbody tr th:only-of-type {\n",
       "        vertical-align: middle;\n",
       "    }\n",
       "\n",
       "    .dataframe tbody tr th {\n",
       "        vertical-align: top;\n",
       "    }\n",
       "\n",
       "    .dataframe thead th {\n",
       "        text-align: right;\n",
       "    }\n",
       "</style>\n",
       "<table border=\"1\" class=\"dataframe\">\n",
       "  <thead>\n",
       "    <tr style=\"text-align: right;\">\n",
       "      <th></th>\n",
       "      <th>userId</th>\n",
       "      <th>movieId</th>\n",
       "      <th>rating</th>\n",
       "      <th>timestamp</th>\n",
       "    </tr>\n",
       "  </thead>\n",
       "  <tbody>\n",
       "    <tr>\n",
       "      <th>0</th>\n",
       "      <td>1</td>\n",
       "      <td>31</td>\n",
       "      <td>2.5</td>\n",
       "      <td>1260759144</td>\n",
       "    </tr>\n",
       "    <tr>\n",
       "      <th>1</th>\n",
       "      <td>1</td>\n",
       "      <td>1029</td>\n",
       "      <td>3.0</td>\n",
       "      <td>1260759179</td>\n",
       "    </tr>\n",
       "    <tr>\n",
       "      <th>2</th>\n",
       "      <td>1</td>\n",
       "      <td>1061</td>\n",
       "      <td>3.0</td>\n",
       "      <td>1260759182</td>\n",
       "    </tr>\n",
       "    <tr>\n",
       "      <th>3</th>\n",
       "      <td>1</td>\n",
       "      <td>1129</td>\n",
       "      <td>2.0</td>\n",
       "      <td>1260759185</td>\n",
       "    </tr>\n",
       "    <tr>\n",
       "      <th>4</th>\n",
       "      <td>1</td>\n",
       "      <td>1172</td>\n",
       "      <td>4.0</td>\n",
       "      <td>1260759205</td>\n",
       "    </tr>\n",
       "  </tbody>\n",
       "</table>\n",
       "</div>"
      ],
      "text/plain": [
       "   userId  movieId  rating   timestamp\n",
       "0       1       31     2.5  1260759144\n",
       "1       1     1029     3.0  1260759179\n",
       "2       1     1061     3.0  1260759182\n",
       "3       1     1129     2.0  1260759185\n",
       "4       1     1172     4.0  1260759205"
      ]
     },
     "execution_count": 4,
     "metadata": {},
     "output_type": "execute_result"
    }
   ],
   "source": [
    "from surprise import Reader, Dataset, SVD\n",
    "from surprise.model_selection import cross_validate\n",
    "from surprise.model_selection import KFold\n",
    "reader = Reader()\n",
    "ratings = pd.read_csv('../Data/ratings_small.csv')\n",
    "ratings.head()"
   ]
  },
  {
   "cell_type": "markdown",
   "metadata": {},
   "source": [
    "we will use surprise library to import reader, dataset, svd and surprise.model_selection to import cross_validate,KFold.\n"
   ]
  },
  {
   "cell_type": "code",
   "execution_count": 5,
   "metadata": {},
   "outputs": [
    {
     "data": {
      "text/plain": [
       "<generator object KFold.split at 0x7fd1e9257d60>"
      ]
     },
     "execution_count": 5,
     "metadata": {},
     "output_type": "execute_result"
    }
   ],
   "source": [
    "from surprise.model_selection import KFold\n",
    "data = Dataset.load_from_df(ratings[['userId', 'movieId', 'rating']], reader)\n",
    "kf = KFold(n_splits=5)\n",
    "kf.split(data)"
   ]
  },
  {
   "cell_type": "code",
   "execution_count": 6,
   "metadata": {},
   "outputs": [
    {
     "data": {
      "text/plain": [
       "{'test_rmse': array([0.89320331, 0.89747004, 0.90119982, 0.8927543 , 0.90144113]),\n",
       " 'test_mae': array([0.68800551, 0.69019817, 0.69217569, 0.68704934, 0.69415775]),\n",
       " 'fit_time': (0.45148682594299316,\n",
       "  0.45502185821533203,\n",
       "  0.4725477695465088,\n",
       "  0.4672529697418213,\n",
       "  0.4762439727783203),\n",
       " 'test_time': (0.08749914169311523,\n",
       "  0.13316607475280762,\n",
       "  0.09529304504394531,\n",
       "  0.08675599098205566,\n",
       "  0.08127284049987793)}"
      ]
     },
     "execution_count": 6,
     "metadata": {},
     "output_type": "execute_result"
    }
   ],
   "source": [
    "svd = SVD()\n",
    "cross_validate(svd, data, measures=['RMSE', 'MAE'])"
   ]
  },
  {
   "cell_type": "markdown",
   "metadata": {},
   "source": [
    "we will get 0.89 as rmse value and 0.68 as mae value"
   ]
  },
  {
   "cell_type": "code",
   "execution_count": 7,
   "metadata": {},
   "outputs": [
    {
     "data": {
      "text/plain": [
       "<surprise.prediction_algorithms.matrix_factorization.SVD at 0x7fd1e9249970>"
      ]
     },
     "execution_count": 7,
     "metadata": {},
     "output_type": "execute_result"
    }
   ],
   "source": [
    "trainset = data.build_full_trainset()\n",
    "svd.fit(trainset)"
   ]
  },
  {
   "cell_type": "code",
   "execution_count": 8,
   "metadata": {},
   "outputs": [
    {
     "data": {
      "text/html": [
       "<div>\n",
       "<style scoped>\n",
       "    .dataframe tbody tr th:only-of-type {\n",
       "        vertical-align: middle;\n",
       "    }\n",
       "\n",
       "    .dataframe tbody tr th {\n",
       "        vertical-align: top;\n",
       "    }\n",
       "\n",
       "    .dataframe thead th {\n",
       "        text-align: right;\n",
       "    }\n",
       "</style>\n",
       "<table border=\"1\" class=\"dataframe\">\n",
       "  <thead>\n",
       "    <tr style=\"text-align: right;\">\n",
       "      <th></th>\n",
       "      <th>userId</th>\n",
       "      <th>movieId</th>\n",
       "      <th>rating</th>\n",
       "      <th>timestamp</th>\n",
       "    </tr>\n",
       "  </thead>\n",
       "  <tbody>\n",
       "    <tr>\n",
       "      <th>0</th>\n",
       "      <td>1</td>\n",
       "      <td>31</td>\n",
       "      <td>2.5</td>\n",
       "      <td>1260759144</td>\n",
       "    </tr>\n",
       "    <tr>\n",
       "      <th>1</th>\n",
       "      <td>1</td>\n",
       "      <td>1029</td>\n",
       "      <td>3.0</td>\n",
       "      <td>1260759179</td>\n",
       "    </tr>\n",
       "    <tr>\n",
       "      <th>2</th>\n",
       "      <td>1</td>\n",
       "      <td>1061</td>\n",
       "      <td>3.0</td>\n",
       "      <td>1260759182</td>\n",
       "    </tr>\n",
       "    <tr>\n",
       "      <th>3</th>\n",
       "      <td>1</td>\n",
       "      <td>1129</td>\n",
       "      <td>2.0</td>\n",
       "      <td>1260759185</td>\n",
       "    </tr>\n",
       "    <tr>\n",
       "      <th>4</th>\n",
       "      <td>1</td>\n",
       "      <td>1172</td>\n",
       "      <td>4.0</td>\n",
       "      <td>1260759205</td>\n",
       "    </tr>\n",
       "    <tr>\n",
       "      <th>5</th>\n",
       "      <td>1</td>\n",
       "      <td>1263</td>\n",
       "      <td>2.0</td>\n",
       "      <td>1260759151</td>\n",
       "    </tr>\n",
       "    <tr>\n",
       "      <th>6</th>\n",
       "      <td>1</td>\n",
       "      <td>1287</td>\n",
       "      <td>2.0</td>\n",
       "      <td>1260759187</td>\n",
       "    </tr>\n",
       "    <tr>\n",
       "      <th>7</th>\n",
       "      <td>1</td>\n",
       "      <td>1293</td>\n",
       "      <td>2.0</td>\n",
       "      <td>1260759148</td>\n",
       "    </tr>\n",
       "    <tr>\n",
       "      <th>8</th>\n",
       "      <td>1</td>\n",
       "      <td>1339</td>\n",
       "      <td>3.5</td>\n",
       "      <td>1260759125</td>\n",
       "    </tr>\n",
       "    <tr>\n",
       "      <th>9</th>\n",
       "      <td>1</td>\n",
       "      <td>1343</td>\n",
       "      <td>2.0</td>\n",
       "      <td>1260759131</td>\n",
       "    </tr>\n",
       "    <tr>\n",
       "      <th>10</th>\n",
       "      <td>1</td>\n",
       "      <td>1371</td>\n",
       "      <td>2.5</td>\n",
       "      <td>1260759135</td>\n",
       "    </tr>\n",
       "    <tr>\n",
       "      <th>11</th>\n",
       "      <td>1</td>\n",
       "      <td>1405</td>\n",
       "      <td>1.0</td>\n",
       "      <td>1260759203</td>\n",
       "    </tr>\n",
       "    <tr>\n",
       "      <th>12</th>\n",
       "      <td>1</td>\n",
       "      <td>1953</td>\n",
       "      <td>4.0</td>\n",
       "      <td>1260759191</td>\n",
       "    </tr>\n",
       "    <tr>\n",
       "      <th>13</th>\n",
       "      <td>1</td>\n",
       "      <td>2105</td>\n",
       "      <td>4.0</td>\n",
       "      <td>1260759139</td>\n",
       "    </tr>\n",
       "    <tr>\n",
       "      <th>14</th>\n",
       "      <td>1</td>\n",
       "      <td>2150</td>\n",
       "      <td>3.0</td>\n",
       "      <td>1260759194</td>\n",
       "    </tr>\n",
       "    <tr>\n",
       "      <th>15</th>\n",
       "      <td>1</td>\n",
       "      <td>2193</td>\n",
       "      <td>2.0</td>\n",
       "      <td>1260759198</td>\n",
       "    </tr>\n",
       "    <tr>\n",
       "      <th>16</th>\n",
       "      <td>1</td>\n",
       "      <td>2294</td>\n",
       "      <td>2.0</td>\n",
       "      <td>1260759108</td>\n",
       "    </tr>\n",
       "    <tr>\n",
       "      <th>17</th>\n",
       "      <td>1</td>\n",
       "      <td>2455</td>\n",
       "      <td>2.5</td>\n",
       "      <td>1260759113</td>\n",
       "    </tr>\n",
       "    <tr>\n",
       "      <th>18</th>\n",
       "      <td>1</td>\n",
       "      <td>2968</td>\n",
       "      <td>1.0</td>\n",
       "      <td>1260759200</td>\n",
       "    </tr>\n",
       "    <tr>\n",
       "      <th>19</th>\n",
       "      <td>1</td>\n",
       "      <td>3671</td>\n",
       "      <td>3.0</td>\n",
       "      <td>1260759117</td>\n",
       "    </tr>\n",
       "  </tbody>\n",
       "</table>\n",
       "</div>"
      ],
      "text/plain": [
       "    userId  movieId  rating   timestamp\n",
       "0        1       31     2.5  1260759144\n",
       "1        1     1029     3.0  1260759179\n",
       "2        1     1061     3.0  1260759182\n",
       "3        1     1129     2.0  1260759185\n",
       "4        1     1172     4.0  1260759205\n",
       "5        1     1263     2.0  1260759151\n",
       "6        1     1287     2.0  1260759187\n",
       "7        1     1293     2.0  1260759148\n",
       "8        1     1339     3.5  1260759125\n",
       "9        1     1343     2.0  1260759131\n",
       "10       1     1371     2.5  1260759135\n",
       "11       1     1405     1.0  1260759203\n",
       "12       1     1953     4.0  1260759191\n",
       "13       1     2105     4.0  1260759139\n",
       "14       1     2150     3.0  1260759194\n",
       "15       1     2193     2.0  1260759198\n",
       "16       1     2294     2.0  1260759108\n",
       "17       1     2455     2.5  1260759113\n",
       "18       1     2968     1.0  1260759200\n",
       "19       1     3671     3.0  1260759117"
      ]
     },
     "execution_count": 8,
     "metadata": {},
     "output_type": "execute_result"
    }
   ],
   "source": [
    "ratings[ratings['userId'] == 1]"
   ]
  },
  {
   "cell_type": "code",
   "execution_count": 9,
   "metadata": {},
   "outputs": [
    {
     "data": {
      "text/plain": [
       "Prediction(uid=1, iid=302, r_ui=3, est=2.546181144019188, details={'was_impossible': False})"
      ]
     },
     "execution_count": 9,
     "metadata": {},
     "output_type": "execute_result"
    }
   ],
   "source": [
    "svd.predict(1, 302, 3)"
   ]
  },
  {
   "cell_type": "markdown",
   "metadata": {},
   "source": [
    "For movie with ID 302, we get an estimated prediction of 2.618."
   ]
  }
 ],
 "metadata": {
  "kernelspec": {
   "display_name": "Python 3 (ipykernel)",
   "language": "python",
   "name": "python3"
  },
  "language_info": {
   "codemirror_mode": {
    "name": "ipython",
    "version": 3
   },
   "file_extension": ".py",
   "mimetype": "text/x-python",
   "name": "python",
   "nbconvert_exporter": "python",
   "pygments_lexer": "ipython3",
   "version": "3.9.12"
  },
  "vscode": {
   "interpreter": {
    "hash": "6863e040e8981097dbf29d10dc72ab85d80010d98b5512de1073715d1caccbff"
   }
  }
 },
 "nbformat": 4,
 "nbformat_minor": 2
}
